{
 "cells": [
  {
   "cell_type": "markdown",
   "metadata": {},
   "source": [
    "# Monte-Carlo Simulation\n",
    "\n",
    "## 1.1 Data Creation and Visualization\n",
    "\n",
    "### Inverse Transform Sampling\n",
    "Objective: Generate X values which are distributed according to an given distribution\n",
    "    \n",
    "\n",
    "0. Build integral (borders 0 to x) to covert pdf (probability distribution function = $f(x)$) to cdf (cummulative distribution function = $F(x)$).<br>\n",
    "1. Generate random number u from the standard unifrom distribution in the interval [0,1] <br>\n",
    "2. Find the inverse of the function $F_x$ -> to perfrom Inversion solve $F(X = F^{-1}(u)) = u$ <br>\n",
    "3. Compute $X = F^{-1}(u)$. The computed variable C has distribution $F_x(x)$. <br>\n",
    "\n",
    "### Transformation formulars for likelihoods\n",
    "pdf for likelihoods: <br>\n",
    " <br>\n",
    "$P(X=x|Y=0) = f(x) = 2-2x$  <br>\n",
    "$F(x) = 2x-x^2$    <br>\n",
    "$F^{-1}(x) = 1- \\sqrt{1 - x}$\n",
    "\n",
    "$P(X=x|Y=1) = f(x) = 2x  $<br>\n",
    "$F(x) = x^2 $ <br>\n",
    "$F^{-1}(x) = \\sqrt{x}$    \n"
   ]
  },
  {
   "cell_type": "code",
   "execution_count": 63,
   "metadata": {},
   "outputs": [
    {
     "data": {
      "image/png": "[encoded data removed]",
      "text/plain": [
       "<Figure size 432x288 with 1 Axes>"
      ]
     },
     "metadata": {
      "needs_background": "light"
     },
     "output_type": "display_data"
    },
    {
     "data": {
      "text/plain": [
       "array([[0.30656558, 0.24680725, 0.47208733, ..., 0.77779433, 0.70613628,\n",
       "        0.43780075],\n",
       "       [0.        , 0.        , 0.        , ..., 1.        , 1.        ,\n",
       "        1.        ]])"
      ]
     },
     "execution_count": 63,
     "metadata": {},
     "output_type": "execute_result"
    }
   ],
   "source": [
    "import numpy as np\n",
    "import matplotlib.pyplot as plt\n",
    "\n",
    "def create_data(N):\n",
    "    u = np.random.random(N // 2)\n",
    "    z = np.random.random(N//2)\n",
    "\n",
    "    y0 = np.zeros(N // 2)\n",
    "    y1 = np.ones(N // 2)\n",
    "\n",
    "    # \"Inverse Transform Sampling\" with generated random numbers\n",
    "    x0 = 1 - np.sqrt(1 - u)\n",
    "    x1 = np.sqrt(z)\n",
    "\n",
    "    x_y0 = np.array([x0, y0])\n",
    "    x_y1 = np.array([x1, y1])\n",
    "\n",
    "    x_y = np.concatenate((x_y0, x_y1), axis=1)\n",
    "\n",
    "    # comment this out to prevent a \"plotoverflow\" \n",
    "    \n",
    "    plt.hist((x0, x1), bins=50)\n",
    "    plt.title(\"Generated X-Values based on likelihood distribution\",fontsize=12)\n",
    "    plt.xlabel(\"X-Values\")\n",
    "    plt.ylabel(\"Amount of data instances\")\n",
    "    plt.show()\n",
    "\n",
    "    return x_y\n",
    "\n",
    "create_data(10000)"
   ]
  },
  {
   "cell_type": "markdown",
   "metadata": {},
   "source": [
    "## 1.2 Classification by Thresholding\n"
   ]
  },
  {
   "cell_type": "code",
   "execution_count": 19,
   "metadata": {},
   "outputs": [
    {
     "name": "stdout",
     "output_type": "stream",
     "text": [
      "N: 10 Threshold: 0.2 Mean: 0.29999999999999993  std: 0.1414213562373095\n",
      "N: 100 Threshold: 0.2 Mean: 0.334  std: 0.026153393661244046\n",
      "N: 1000 Threshold: 0.2 Mean: 0.33930000000000005  std: 0.009899999999999989\n",
      "N: 10000 Threshold: 0.2 Mean: 0.34095000000000003  std: 0.0020543855529086994\n",
      "N: 10 Threshold: 0.5 Mean: 0.28  std: 0.14696938456699069\n",
      "N: 100 Threshold: 0.5 Mean: 0.263  std: 0.032878564445547195\n",
      "N: 1000 Threshold: 0.5 Mean: 0.2538  std: 0.011754148203932098\n",
      "N: 10000 Threshold: 0.5 Mean: 0.25017999999999996  std: 0.0030717421766808454\n",
      "N: 10 Threshold: 0.6 Mean: 0.26  std: 0.14282856857085702\n",
      "N: 100 Threshold: 0.6 Mean: 0.26800000000000007  std: 0.014696938456699072\n",
      "N: 1000 Threshold: 0.6 Mean: 0.2619  std: 0.009491575211733834\n",
      "N: 10000 Threshold: 0.6 Mean: 0.25959000000000004  std: 0.003343187102152674\n"
     ]
    }
   ],
   "source": [
    "def verify_error():\n",
    "    m_values = [10, 100, 1000, 10000]\n",
    "    t_values = [0.2, 0.5, 0.6]\n",
    "    mean_error_list = []\n",
    "\n",
    "    for t in t_values:\n",
    "        for m in m_values:\n",
    "            for x in range(10):\n",
    "                x_y = create_data(m)\n",
    "                x = x_y[0]\n",
    "                y = x_y[1]\n",
    "\n",
    "                # check first expression, True = 1\n",
    "                classifier_1 = (x >= t)\n",
    "                \n",
    "                # compares classifier with True label, if not equal there's an error detected\n",
    "                error = np.sum(classifier_1 != y) / m \n",
    "\n",
    "                mean_error_list.append(error)\n",
    "\n",
    "            mean_error = np.mean(mean_error_list)\n",
    "            std_error = np.std(mean_error_list)\n",
    "\n",
    "            print(\"N: \" + str(m) + \" Threshold: \" + str(t) + \" Mean: \" + str(mean_error) + \"  std: \" + str(std_error))\n",
    "\n",
    "            mean_error_list = []\n",
    "\n",
    "            \n",
    "verify_error()"
   ]
  },
  {
   "cell_type": "markdown",
   "metadata": {},
   "source": [
    "As we can see the error standard deviation decreases logarithmically  with increasing M (converges to zero).<br>\n",
    "See e.g. Rule C (1.3)\n"
   ]
  },
  {
   "cell_type": "markdown",
   "metadata": {},
   "source": [
    "## 1.3 Baseline Classifier\n",
    "### Rule C"
   ]
  },
  {
   "cell_type": "code",
   "execution_count": 48,
   "metadata": {},
   "outputs": [
    {
     "name": "stdout",
     "output_type": "stream",
     "text": [
      "N: 10 ProbabilityClassifier, Mean: 0.5199999999999999  std: 0.132664991614216\n",
      "N: 100 ProbabilityClassifier, Mean: 0.4960000000000001  std: 0.05043808085167396\n",
      "N: 1000 ProbabilityClassifier, Mean: 0.4918  std: 0.011847362575695918\n",
      "N: 10000 ProbabilityClassifier, Mean: 0.49756  std: 0.0050618573666194894\n",
      "\n",
      "\n"
     ]
    },
    {
     "data": {
      "image/png": "[encoded data removed]",
      "text/plain": [
       "<Figure size 432x288 with 1 Axes>"
      ]
     },
     "metadata": {
      "needs_background": "light"
     },
     "output_type": "display_data"
    }
   ],
   "source": [
    "def probability_classifier():\n",
    "    m_values = [10, 100, 1000, 10000]\n",
    "    mean_error_list = []\n",
    "    meanerror_plotlist = []\n",
    "    stderror_plotlist = []\n",
    "\n",
    "    for m in m_values:\n",
    "        oneArray = np.ones(m // 2)\n",
    "        zeroArray = np.zeros(m // 2)\n",
    "        \n",
    "        # probability array exists half of 1 and half of 0 values\n",
    "        probability_array = np.concatenate((oneArray, zeroArray))\n",
    "\n",
    "        for x in range(10):\n",
    "            x_y = create_data(m)\n",
    "            x = x_y[0]  \n",
    "            y = x_y[1]\n",
    "            \n",
    "            np.random.shuffle(probability_array)\n",
    "\n",
    "            error = np.sum(probability_array != y) / m\n",
    "\n",
    "            mean_error_list.append(error)\n",
    "\n",
    "        mean_error = np.mean(mean_error_list)\n",
    "        std_error = np.std(mean_error_list)\n",
    "\n",
    "        meanerror_plotlist.append(mean_error)  # mean_error from the datasets N:[10,100,..]\n",
    "        stderror_plotlist.append(std_error)  # std_error from the mean error of the datasets\n",
    "\n",
    "        print(\"N: \" + str(m) + \" ProbabilityClassifier, Mean: \" + str(mean_error) + \"  std: \" + str(std_error))\n",
    "\n",
    "        mean_error_list = []\n",
    "        \n",
    "    print(str(\"\\n\"))\n",
    "    \n",
    "    plt.plot(m_values, meanerror_plotlist)\n",
    "    plt.plot(m_values, stderror_plotlist)\n",
    "    plt.title(\"Mean and standard deviation of error over test sets (M sizes)\",fontsize = 12)\n",
    "    plt.ylim(0.0,0.7)\n",
    "    plt.ylabel(\"error\")\n",
    "    plt.xlabel(\"test set sitze (M)\")\n",
    "    plt.legend([\"mean\",\"standard deviation\"])\n",
    "    plt.show()\n",
    "    \n",
    "probability_classifier()"
   ]
  },
  {
   "cell_type": "markdown",
   "metadata": {},
   "source": [
    "### Rule D"
   ]
  },
  {
   "cell_type": "code",
   "execution_count": 51,
   "metadata": {},
   "outputs": [
    {
     "name": "stdout",
     "output_type": "stream",
     "text": [
      "N: 10 ProbabilityClassifier, Mean: 0.5  std: 0.0\n",
      "N: 100 ProbabilityClassifier, Mean: 0.5  std: 0.0\n",
      "N: 1000 ProbabilityClassifier, Mean: 0.5  std: 0.0\n",
      "N: 10000 ProbabilityClassifier, Mean: 0.5  std: 0.0\n",
      "\n",
      "\n"
     ]
    },
    {
     "data": {
      "image/png": "[encoded data removed]",
      "text/plain": [
       "<Figure size 432x288 with 1 Axes>"
      ]
     },
     "metadata": {
      "needs_background": "light"
     },
     "output_type": "display_data"
    }
   ],
   "source": [
    "def always_predict_1_classifier():\n",
    "    m_values = [10, 100, 1000, 10000]\n",
    "    mean_error_list = []\n",
    "    meanerror_plotlist = []\n",
    "    stderror_plotlist = []\n",
    "\n",
    "    for m in m_values:\n",
    "        for x in range(10):\n",
    "            x_y = create_data(m)\n",
    "            x = x_y[0] \n",
    "            y = x_y[1]\n",
    "\n",
    "            ones_array = np.ones(m)\n",
    "            error = np.sum(ones_array != y) / m\n",
    "\n",
    "            mean_error_list.append(error)\n",
    "\n",
    "        mean_error = np.mean(mean_error_list)\n",
    "        std_error = np.std(mean_error_list)\n",
    "\n",
    "        meanerror_plotlist.append(mean_error)  # mean_error from the datasets N:[10,100,..]\n",
    "        stderror_plotlist.append(std_error)  # std_error from the mean error of the datasets\n",
    "\n",
    "        print(\"N: \" + str(m) + \" ProbabilityClassifier, Mean: \" + str(mean_error) + \"  std: \" + str(std_error))\n",
    "\n",
    "        mean_error_list = []\n",
    "\n",
    "    print(str(\"\\n\"))\n",
    "    \n",
    "    plt.plot(m_values, meanerror_plotlist)\n",
    "    plt.plot(m_values, stderror_plotlist)\n",
    "    plt.title(\"Mean and standard deviation of error over test sets (M sizes)\",fontsize = 12)\n",
    "    plt.ylim(0.0,0.7)\n",
    "    plt.ylabel(\"error\")\n",
    "    plt.xlabel(\"test set sitze (M)\")\n",
    "    plt.legend([\"mean\",\"standard deviation\"])\n",
    "    plt.show()\n",
    "    \n",
    "always_predict_1_classifier()"
   ]
  },
  {
   "cell_type": "markdown",
   "metadata": {},
   "source": [
    "## 1.4 Nearest Nieghbour Classifier"
   ]
  },
  {
   "cell_type": "code",
   "execution_count": 62,
   "metadata": {},
   "outputs": [
    {
     "name": "stdout",
     "output_type": "stream",
     "text": [
      "N: 2  errormean: 0.355729  errorstd: 0.16750408729043\n",
      "N: 100  errormean: 0.3425455  errorstd: 0.12039439305777491\n"
     ]
    }
   ],
   "source": [
    "def nearest_neighbour_classifier():\n",
    "    _n = [2, 100]\n",
    "    error_list = []\n",
    "    count_of_datasets = 10000\n",
    "\n",
    "    for n in _n:\n",
    "        test_data = create_data(count_of_datasets)\n",
    "        for i in range(100):\n",
    "            training_data = create_data(n)\n",
    "            \n",
    "            # euclidean distance\n",
    "            # returns distance from point of test_data to different points of training_data in separate columns\n",
    "            distance = test_data[0] - training_data[0][:, np.newaxis]\n",
    "\n",
    "            # transpose array (make columns to row) and make all element-values absolute\n",
    "            distance = np.absolute(np.transpose(distance))\n",
    "\n",
    "            # index of row Arrays for min value\n",
    "            index = np.argmin(distance, axis=1)\n",
    "\n",
    "            # choose predicted Y\n",
    "            predicted_y = training_data[1][index]\n",
    "\n",
    "            error = np.sum(predicted_y != test_data[1]) / count_of_datasets\n",
    "            error_list.append(error)\n",
    "\n",
    "        error_mean = np.mean(error_list)\n",
    "        error_std = np.std(error_list)\n",
    "        print(\"N: \"+str(n)+\"  errormean: \"+str(error_mean)+\"  errorstd: \"+str(error_std))\n",
    "\n",
    "nearest_neighbour_classifier()"
   ]
  },
  {
   "cell_type": "markdown",
   "metadata": {},
   "source": [
    "As in the case of thresholds classifiers the mean error decreases with increasing training sets. <br>\n",
    "(from 35% to 25%. (-> optimal Bayes))"
   ]
  },
  {
   "cell_type": "code",
   "execution_count": null,
   "metadata": {},
   "outputs": [],
   "source": []
  }
 ],
 "metadata": {
  "kernelspec": {
   "display_name": "Python 3",
   "language": "python",
   "name": "python3"
  },
  "language_info": {
   "codemirror_mode": {
    "name": "ipython",
    "version": 3
   },
   "file_extension": ".py",
   "mimetype": "text/x-python",
   "name": "python",
   "nbconvert_exporter": "python",
   "pygments_lexer": "ipython3",
   "version": "3.7.3"
  }
 },
 "nbformat": 4,
 "nbformat_minor": 4
}
